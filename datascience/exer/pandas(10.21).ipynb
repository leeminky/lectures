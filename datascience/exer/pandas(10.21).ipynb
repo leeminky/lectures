{
 "cells": [
  {
   "cell_type": "code",
   "execution_count": 1,
   "id": "0f558b9f",
   "metadata": {},
   "outputs": [],
   "source": [
    "import numpy as np\n",
    "import pandas as pd"
   ]
  },
  {
   "cell_type": "code",
   "execution_count": 3,
   "id": "8904d4e1",
   "metadata": {},
   "outputs": [
    {
     "data": {
      "text/plain": [
       "array([1, 2, 3, 4, 5, 6, 7, 8, 9])"
      ]
     },
     "execution_count": 3,
     "metadata": {},
     "output_type": "execute_result"
    }
   ],
   "source": [
    "x=[1,2,3]\n",
    "y=[4,5,6]\n",
    "z=[7,8,9]\n",
    "np.concatenate([x,y,z])"
   ]
  },
  {
   "cell_type": "code",
   "execution_count": 5,
   "id": "901d676c",
   "metadata": {},
   "outputs": [
    {
     "data": {
      "text/plain": [
       "1    A\n",
       "2    B\n",
       "3    C\n",
       "4    D\n",
       "5    E\n",
       "6    F\n",
       "dtype: object"
      ]
     },
     "execution_count": 5,
     "metadata": {},
     "output_type": "execute_result"
    }
   ],
   "source": [
    "ser1=pd.Series(['A','B','C'],index=[1,2,3])\n",
    "ser2=pd.Series(['D','E','F'],index=[4,5,6])\n",
    "pd.concat([ser1,ser2])"
   ]
  },
  {
   "cell_type": "code",
   "execution_count": null,
   "id": "d99e5090",
   "metadata": {},
   "outputs": [],
   "source": [
    "df1= make_df('AB',[1,2])\n",
    "df2= make_df('AB',[3,4])\n",
    "print(df1)\n",
    "print(df2)\n",
    "print(pd.concat([df1,df2]))"
   ]
  },
  {
   "cell_type": "code",
   "execution_count": null,
   "id": "11d9b6b4",
   "metadata": {},
   "outputs": [],
   "source": [
    "df3=make_df('AB',[0,1])\n",
    "df4=make_df('CD',[0,1])\n",
    "pirnt(pd.concat([df3,df4],axis=1))"
   ]
  },
  {
   "cell_type": "code",
   "execution_count": null,
   "id": "c83ba90d",
   "metadata": {},
   "outputs": [],
   "source": [
    "x=make_df('ABC',[1,2])\n",
    "y=make_df('BCD',[3,4])\n",
    "print(pd.concat([x,y],join=outer))\n",
    "print(pd.concat([x,y],join=inner))"
   ]
  },
  {
   "cell_type": "code",
   "execution_count": null,
   "id": "a64e3153",
   "metadata": {},
   "outputs": [],
   "source": []
  }
 ],
 "metadata": {
  "kernelspec": {
   "display_name": "Python 3",
   "language": "python",
   "name": "python3"
  },
  "language_info": {
   "codemirror_mode": {
    "name": "ipython",
    "version": 3
   },
   "file_extension": ".py",
   "mimetype": "text/x-python",
   "name": "python",
   "nbconvert_exporter": "python",
   "pygments_lexer": "ipython3",
   "version": "3.8.8"
  }
 },
 "nbformat": 4,
 "nbformat_minor": 5
}
