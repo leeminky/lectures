{
 "cells": [
  {
   "cell_type": "code",
   "execution_count": 3,
   "id": "bcde7de5",
   "metadata": {},
   "outputs": [],
   "source": [
    "import pandas as pd\n",
    "import numpy as np"
   ]
  },
  {
   "cell_type": "code",
   "execution_count": 6,
   "id": "92a888fb",
   "metadata": {},
   "outputs": [
    {
     "data": {
      "text/plain": [
       "'1.2.4'"
      ]
     },
     "execution_count": 6,
     "metadata": {},
     "output_type": "execute_result"
    }
   ],
   "source": [
    "pd.__version__"
   ]
  },
  {
   "cell_type": "code",
   "execution_count": 9,
   "id": "792e8198",
   "metadata": {},
   "outputs": [
    {
     "name": "stdout",
     "output_type": "stream",
     "text": [
      "0    0.25\n",
      "1    0.50\n",
      "2    0.75\n",
      "3    1.00\n",
      "dtype: float64\n"
     ]
    }
   ],
   "source": [
    "ser=pd.Series([0.25,0.5,0.75,1.0])\n",
    "print(ser)"
   ]
  },
  {
   "cell_type": "code",
   "execution_count": 11,
   "id": "dd6f18bf",
   "metadata": {},
   "outputs": [
    {
     "name": "stdout",
     "output_type": "stream",
     "text": [
      "[0.25 0.5  0.75 1.  ]\n",
      "RangeIndex(start=0, stop=4, step=1)\n"
     ]
    }
   ],
   "source": [
    "arr=ser.values\n",
    "ind=ser.index\n",
    "print(arr)\n",
    "print(ind)"
   ]
  },
  {
   "cell_type": "code",
   "execution_count": 20,
   "id": "5eb8ef4b",
   "metadata": {},
   "outputs": [
    {
     "name": "stdout",
     "output_type": "stream",
     "text": [
      "a    0.25\n",
      "b    0.50\n",
      "c    0.75\n",
      "d    1.00\n",
      "dtype: float64\n"
     ]
    },
    {
     "data": {
      "text/plain": [
       "0.5"
      ]
     },
     "execution_count": 20,
     "metadata": {},
     "output_type": "execute_result"
    }
   ],
   "source": [
    "ser=pd.Series([0.25,0.5,0.75,1.0], index=['a','b','c','d'])\n",
    "print(ser)\n",
    "ser['b']"
   ]
  },
  {
   "cell_type": "code",
   "execution_count": 32,
   "id": "8b8e87eb",
   "metadata": {},
   "outputs": [
    {
     "name": "stdout",
     "output_type": "stream",
     "text": [
      "California    38332521\n",
      "Texas         26448193\n",
      "New York      19651127\n",
      "Florida       19552860\n",
      "Illinois      12882135\n",
      "dtype: int64\n",
      "California    38332521\n",
      "Texas         26448193\n",
      "New York      19651127\n",
      "dtype: int64\n"
     ]
    }
   ],
   "source": [
    "population_dict={'California':38332521,\n",
    "                'Texas':26448193,\n",
    "                \"New York\":19651127,\n",
    "                'Florida':19552860,\n",
    "                'Illinois':12882135}\n",
    "population=pd.Series(population_dict)\n",
    "print(population)\n",
    "print(population['California':\"New York\"])"
   ]
  },
  {
   "cell_type": "code",
   "execution_count": 34,
   "id": "7174e765",
   "metadata": {},
   "outputs": [
    {
     "name": "stdout",
     "output_type": "stream",
     "text": [
      "California    423967\n",
      "Texas         695662\n",
      "New York      141297\n",
      "Florida       170312\n",
      "Illinois      149995\n",
      "dtype: int64\n"
     ]
    }
   ],
   "source": [
    "area_dict={'California':423967,\n",
    "                'Texas':695662,\n",
    "                \"New York\":141297,\n",
    "                'Florida':170312,\n",
    "                'Illinois':149995}\n",
    "area=pd.Series(area_dict)\n",
    "print(area)"
   ]
  },
  {
   "cell_type": "code",
   "execution_count": 42,
   "id": "b6b7beeb",
   "metadata": {},
   "outputs": [
    {
     "ename": "SyntaxError",
     "evalue": "invalid syntax (<ipython-input-42-eeeb5298174c>, line 5)",
     "output_type": "error",
     "traceback": [
      "\u001b[1;36m  File \u001b[1;32m\"<ipython-input-42-eeeb5298174c>\"\u001b[1;36m, line \u001b[1;32m5\u001b[0m\n\u001b[1;33m    print(states.['area'])\u001b[0m\n\u001b[1;37m                 ^\u001b[0m\n\u001b[1;31mSyntaxError\u001b[0m\u001b[1;31m:\u001b[0m invalid syntax\n"
     ]
    }
   ],
   "source": [
    "states=pd.DataFrame({'population':population,'area':area})\n",
    "print(states)\n",
    "print(states.index)\n",
    "print(states.columns)"
   ]
  },
  {
   "cell_type": "code",
   "execution_count": 53,
   "id": "1d913895",
   "metadata": {},
   "outputs": [
    {
     "data": {
      "text/plain": [
       "California    423967\n",
       "Texas         695662\n",
       "New York      141297\n",
       "Florida       170312\n",
       "Illinois      149995\n",
       "Name: area, dtype: int64"
      ]
     },
     "execution_count": 53,
     "metadata": {},
     "output_type": "execute_result"
    }
   ],
   "source": [
    "states['area']"
   ]
  },
  {
   "cell_type": "code",
   "execution_count": 44,
   "id": "03c92226",
   "metadata": {},
   "outputs": [
    {
     "name": "stdout",
     "output_type": "stream",
     "text": [
      "[[0.11966133 0.92039271]\n",
      " [0.22451217 0.22228486]\n",
      " [0.5486137  0.42882073]] \n",
      "\n"
     ]
    },
    {
     "data": {
      "text/html": [
       "<div>\n",
       "<style scoped>\n",
       "    .dataframe tbody tr th:only-of-type {\n",
       "        vertical-align: middle;\n",
       "    }\n",
       "\n",
       "    .dataframe tbody tr th {\n",
       "        vertical-align: top;\n",
       "    }\n",
       "\n",
       "    .dataframe thead th {\n",
       "        text-align: right;\n",
       "    }\n",
       "</style>\n",
       "<table border=\"1\" class=\"dataframe\">\n",
       "  <thead>\n",
       "    <tr style=\"text-align: right;\">\n",
       "      <th></th>\n",
       "      <th>foo</th>\n",
       "      <th>bar</th>\n",
       "    </tr>\n",
       "  </thead>\n",
       "  <tbody>\n",
       "    <tr>\n",
       "      <th>a</th>\n",
       "      <td>0.119661</td>\n",
       "      <td>0.920393</td>\n",
       "    </tr>\n",
       "    <tr>\n",
       "      <th>b</th>\n",
       "      <td>0.224512</td>\n",
       "      <td>0.222285</td>\n",
       "    </tr>\n",
       "    <tr>\n",
       "      <th>c</th>\n",
       "      <td>0.548614</td>\n",
       "      <td>0.428821</td>\n",
       "    </tr>\n",
       "  </tbody>\n",
       "</table>\n",
       "</div>"
      ],
      "text/plain": [
       "        foo       bar\n",
       "a  0.119661  0.920393\n",
       "b  0.224512  0.222285\n",
       "c  0.548614  0.428821"
      ]
     },
     "execution_count": 44,
     "metadata": {},
     "output_type": "execute_result"
    }
   ],
   "source": [
    "arr=np.random.rand(3,2)\n",
    "print(arr,'\\n')\n",
    "\n",
    "pd.DataFrame(arr,columns=['foo','bar'],index=['a','b','c'])\n"
   ]
  },
  {
   "cell_type": "code",
   "execution_count": 48,
   "id": "10a29025",
   "metadata": {},
   "outputs": [
    {
     "name": "stdout",
     "output_type": "stream",
     "text": [
      "a    0.25\n",
      "b    0.50\n",
      "c    0.75\n",
      "d    1.00\n",
      "dtype: float64 \n",
      "\n",
      "True\n",
      "False\n"
     ]
    }
   ],
   "source": [
    "ser=pd.Series([0.25,0.5,0.75,1.0], index=['a','b','c','d'])\n",
    "\n",
    "print(ser,'\\n')\n",
    "print('a' in ser)\n",
    "print(0.25 in ser)"
   ]
  },
  {
   "cell_type": "code",
   "execution_count": 51,
   "id": "a65cf65e",
   "metadata": {},
   "outputs": [
    {
     "name": "stdout",
     "output_type": "stream",
     "text": [
      "Index(['a', 'b', 'c', 'd', 'e'], dtype='object')\n",
      "a    0.125\n",
      "b    0.500\n",
      "c    0.750\n",
      "d    1.000\n",
      "e    1.250\n",
      "dtype: float64\n"
     ]
    }
   ],
   "source": [
    "print(ser.keys())\n",
    "ser['e']=1.25\n",
    "ser['a']=0.125\n",
    "print(ser)"
   ]
  },
  {
   "cell_type": "code",
   "execution_count": 56,
   "id": "ac329649",
   "metadata": {},
   "outputs": [
    {
     "name": "stdout",
     "output_type": "stream",
     "text": [
      "            population    area     density\n",
      "California    38332521  423967   90.413926\n",
      "Texas         26448193  695662   38.018740\n",
      "New York      19651127  141297  139.076746\n",
      "Florida       19552860  170312  114.806121\n",
      "Illinois      12882135  149995   85.883763\n"
     ]
    }
   ],
   "source": [
    "states['density']=states['population']/states['area']\n",
    "print(states)"
   ]
  },
  {
   "cell_type": "code",
   "execution_count": 59,
   "id": "04110668",
   "metadata": {},
   "outputs": [
    {
     "data": {
      "text/html": [
       "<div>\n",
       "<style scoped>\n",
       "    .dataframe tbody tr th:only-of-type {\n",
       "        vertical-align: middle;\n",
       "    }\n",
       "\n",
       "    .dataframe tbody tr th {\n",
       "        vertical-align: top;\n",
       "    }\n",
       "\n",
       "    .dataframe thead th {\n",
       "        text-align: right;\n",
       "    }\n",
       "</style>\n",
       "<table border=\"1\" class=\"dataframe\">\n",
       "  <thead>\n",
       "    <tr style=\"text-align: right;\">\n",
       "      <th></th>\n",
       "      <th>population</th>\n",
       "      <th>area</th>\n",
       "      <th>density</th>\n",
       "    </tr>\n",
       "  </thead>\n",
       "  <tbody>\n",
       "    <tr>\n",
       "      <th>New York</th>\n",
       "      <td>19651127</td>\n",
       "      <td>141297</td>\n",
       "      <td>139.076746</td>\n",
       "    </tr>\n",
       "    <tr>\n",
       "      <th>Florida</th>\n",
       "      <td>19552860</td>\n",
       "      <td>170312</td>\n",
       "      <td>114.806121</td>\n",
       "    </tr>\n",
       "  </tbody>\n",
       "</table>\n",
       "</div>"
      ],
      "text/plain": [
       "          population    area     density\n",
       "New York    19651127  141297  139.076746\n",
       "Florida     19552860  170312  114.806121"
      ]
     },
     "execution_count": 59,
     "metadata": {},
     "output_type": "execute_result"
    }
   ],
   "source": [
    "states.loc['California':'New York']\n",
    "states.iloc[2:4]"
   ]
  },
  {
   "cell_type": "code",
   "execution_count": 62,
   "id": "f4e7aa5c",
   "metadata": {},
   "outputs": [
    {
     "name": "stdout",
     "output_type": "stream",
     "text": [
      "          population     density\n",
      "New York    19651127  139.076746\n",
      "Florida     19552860  114.806121\n"
     ]
    }
   ],
   "source": [
    "print(states.loc[states.density>100,['population','density']])"
   ]
  }
 ],
 "metadata": {
  "kernelspec": {
   "display_name": "Python 3",
   "language": "python",
   "name": "python3"
  },
  "language_info": {
   "codemirror_mode": {
    "name": "ipython",
    "version": 3
   },
   "file_extension": ".py",
   "mimetype": "text/x-python",
   "name": "python",
   "nbconvert_exporter": "python",
   "pygments_lexer": "ipython3",
   "version": "3.8.8"
  }
 },
 "nbformat": 4,
 "nbformat_minor": 5
}
