{
 "cells": [
  {
   "cell_type": "code",
   "execution_count": 3,
   "id": "feb9d285",
   "metadata": {},
   "outputs": [
    {
     "name": "stdout",
     "output_type": "stream",
     "text": [
      "2\n",
      "2\n",
      "4\n"
     ]
    }
   ],
   "source": [
    "\"\"\"\n",
    "function vs method\n",
    "\"\"\"\n",
    "#function\n",
    "\n",
    "def my_function(x):\n",
    "    return x+1\n",
    "print(my_function(1))\n",
    "\n",
    "y=1\n",
    "print(my_function(y))\n",
    "\n",
    "#method: 클래스 내에 정의된 함수\n",
    "\n",
    "x=1\n",
    "\n",
    "class my_class:\n",
    "    @staticmethod\n",
    "    def my_method(x):\n",
    "        return x+1\n",
    "cls=my_class()\n",
    "\n",
    "print(cls.my_method(3))"
   ]
  },
  {
   "cell_type": "code",
   "execution_count": 4,
   "id": "baaf63f5",
   "metadata": {},
   "outputs": [
    {
     "name": "stdout",
     "output_type": "stream",
     "text": [
      "2021is a not leap year.\n",
      "2020is a leap year.\n"
     ]
    }
   ],
   "source": [
    "\"\"\"\n",
    "returning value from function\n",
    "\"\"\"\n",
    "def check_leap_year(year):\n",
    "    if year%4==0:\n",
    "        return str(year)+\"is a leap year.\"\n",
    "    else:\n",
    "        return str(year)+\"is a not leap year.\"\n",
    "    \n",
    "print(check_leap_year(2021))\n",
    "\n",
    "result=check_leap_year(2020)\n",
    "print(result)"
   ]
  },
  {
   "cell_type": "code",
   "execution_count": 8,
   "id": "a96c8d4a",
   "metadata": {},
   "outputs": [
    {
     "name": "stdout",
     "output_type": "stream",
     "text": [
      "9 16 25\n"
     ]
    }
   ],
   "source": [
    "\"\"\"\n",
    "returning multiple values\n",
    "\"\"\"\n",
    "def square_point(x,y,z):\n",
    "    x_squared=x**2\n",
    "    y_squared=y**2\n",
    "    z_squared=z**2\n",
    "    return x_squared,y_squared, z_squared\n",
    "\n",
    "three_squared,four_squared,five_squared= square_point(3,4,5)\n",
    "\n",
    "print(three_squared,four_squared,five_squared)"
   ]
  },
  {
   "cell_type": "code",
   "execution_count": 9,
   "id": "4e3a1ea0",
   "metadata": {},
   "outputs": [
    {
     "name": "stdout",
     "output_type": "stream",
     "text": [
      "Hello\n"
     ]
    }
   ],
   "source": [
    "\"\"\"\n",
    "global vaiables\n",
    "\"\"\"\n",
    "a='Hello'\n",
    "\n",
    "def prints_a():\n",
    "    #a='Hello' : 지역변수\n",
    "    print(a)\n",
    "prints_a()"
   ]
  },
  {
   "cell_type": "code",
   "execution_count": 10,
   "id": "f231ad1e",
   "metadata": {},
   "outputs": [
    {
     "name": "stdout",
     "output_type": "stream",
     "text": [
      "5\n",
      "2\n"
     ]
    }
   ],
   "source": [
    "\"\"\"\n",
    "local variables\n",
    "\"\"\"\n",
    "a=5 \n",
    "def f1():\n",
    "    a=2\n",
    "    print(a)\n",
    "print(a)\n",
    "f1()"
   ]
  },
  {
   "cell_type": "code",
   "execution_count": 12,
   "id": "afa04eed",
   "metadata": {},
   "outputs": [
    {
     "name": "stdout",
     "output_type": "stream",
     "text": [
      "Height= 1\n",
      "Width= 2\n",
      "Depth= 3\n",
      "6\n",
      "Height= 2\n",
      "Width= 1\n",
      "Depth= 3\n",
      "6\n",
      "Height= 1\n",
      "Width= 2\n",
      "Depth= 3\n",
      "6\n",
      "Height= 3\n",
      "Width= 1\n",
      "Depth= 1\n",
      "3\n"
     ]
    }
   ],
   "source": [
    "\"\"\"\n",
    "keyword arguments and default values\n",
    "\"\"\"    \n",
    "def findvolume(height=1,width=1,depth=1):\n",
    "    print(\"Height= \"+str(height))\n",
    "    print(\"Width= \"+str(width))\n",
    "    print(\"Depth= \"+str(depth))#str():어떤 값을 문자열 갑으로 변환\n",
    "    return height*width*depth;\n",
    "\n",
    "\n",
    "print(findvolume(1,2,3))\n",
    "print(findvolume(2,1,3))\n",
    "print(findvolume(width=2,height=1,depth=3))\n",
    "print(findvolume(height=3))"
   ]
  },
  {
   "cell_type": "code",
   "execution_count": null,
   "id": "559973ae",
   "metadata": {},
   "outputs": [],
   "source": []
  }
 ],
 "metadata": {
  "kernelspec": {
   "display_name": "Python 3",
   "language": "python",
   "name": "python3"
  },
  "language_info": {
   "codemirror_mode": {
    "name": "ipython",
    "version": 3
   },
   "file_extension": ".py",
   "mimetype": "text/x-python",
   "name": "python",
   "nbconvert_exporter": "python",
   "pygments_lexer": "ipython3",
   "version": "3.8.8"
  }
 },
 "nbformat": 4,
 "nbformat_minor": 5
}
