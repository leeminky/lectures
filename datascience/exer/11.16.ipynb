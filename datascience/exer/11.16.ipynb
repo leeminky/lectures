{
 "cells": [
  {
   "cell_type": "code",
   "execution_count": 1,
   "id": "a8537f0b",
   "metadata": {},
   "outputs": [
    {
     "name": "stderr",
     "output_type": "stream",
     "text": [
      "<ipython-input-1-0c95b2fc7292>:3: FutureWarning: The pandas.datetime class is deprecated and will be removed from pandas in a future version. Import from datetime module instead.\n",
      "  from pandas import datetime\n"
     ]
    }
   ],
   "source": [
    "import pandas as pd\n",
    "import numpy as np\n",
    "from pandas import datetime\n",
    "from matplotlib import pyplot as plt"
   ]
  },
  {
   "cell_type": "code",
   "execution_count": null,
   "id": "d8a265ce",
   "metadata": {},
   "outputs": [],
   "source": [
    "def parser(x):\n",
    "    return datetime.strptime(x,'%Y-%m-%d %H:%M:%S')\n",
    "input_file='.date/AirQualityUCI_refined.csv'\n",
    "df=pd.read_csv(inpyt_file,\n",
    "              index_col=[0],\n",
    "              parse_dates=[0],\n",
    "              date_perser=perser)\n",
    "df.head()"
   ]
  },
  {
   "cell_type": "code",
   "execution_count": 2,
   "id": "75eebe35",
   "metadata": {},
   "outputs": [
    {
     "name": "stdout",
     "output_type": "stream",
     "text": [
      "Collecting pyqt5\n",
      "  Downloading PyQt5-5.15.6-cp36-abi3-win_amd64.whl (6.7 MB)\n",
      "Collecting PyQt5-sip<13,>=12.8\n",
      "  Downloading PyQt5_sip-12.9.0-cp38-cp38-win_amd64.whl (63 kB)\n",
      "Collecting PyQt5-Qt5>=5.15.2\n",
      "  Downloading PyQt5_Qt5-5.15.2-py3-none-win_amd64.whl (50.1 MB)\n",
      "Installing collected packages: PyQt5-sip, PyQt5-Qt5, pyqt5\n",
      "Successfully installed PyQt5-Qt5-5.15.2 PyQt5-sip-12.9.0 pyqt5-5.15.6\n",
      "Note: you may need to restart the kernel to use updated packages.\n"
     ]
    },
    {
     "name": "stderr",
     "output_type": "stream",
     "text": [
      "ERROR: pip's dependency resolver does not currently take into account all the packages that are installed. This behaviour is the source of the following dependency conflicts.\n",
      "spyder 4.2.5 requires pyqtwebengine<5.13, which is not installed.\n",
      "spyder 4.2.5 requires pyqt5<5.13, but you have pyqt5 5.15.6 which is incompatible.\n"
     ]
    }
   ],
   "source": [
    "pip install pyqt5"
   ]
  },
  {
   "cell_type": "code",
   "execution_count": null,
   "id": "eb0bd062",
   "metadata": {},
   "outputs": [],
   "source": [
    "%matplotlib\n",
    "from matplotlib import pyplot as plt\n",
    "import seaborn; seaborn.set()\n",
    "%config InlineBackend.figure_format='svg'\n",
    "plt.rcParans['figure,figsize']=[10,5]\n",
    "plt.ion()"
   ]
  },
  {
   "cell_type": "code",
   "execution_count": null,
   "id": "81de6111",
   "metadata": {},
   "outputs": [],
   "source": [
    "df['CO(GT)'.plot()]"
   ]
  },
  {
   "cell_type": "code",
   "execution_count": null,
   "id": "008108fe",
   "metadata": {},
   "outputs": [],
   "source": [
    "co = df['CO(GT)'].copy()\n",
    "co.interpolate(inplace=True)"
   ]
  },
  {
   "cell_type": "code",
   "execution_count": null,
   "id": "77aa9e3a",
   "metadata": {},
   "outputs": [],
   "source": [
    "plt.boxplot(co)\n",
    "plt.title(\"Detecting outliers using Boxplot\")\n",
    "plt.xlabel('CO(GT)')"
   ]
  },
  {
   "cell_type": "code",
   "execution_count": null,
   "id": "47c3f3e9",
   "metadata": {},
   "outputs": [],
   "source": [
    "q1 = co.quantile(0.25)\n",
    "median = co.quantile(0.5)\n",
    "q3 = co.quantile(0.75)\n",
    "print(q1, median, q3)\n"
   ]
  },
  {
   "cell_type": "code",
   "execution_count": null,
   "id": "7c735fe6",
   "metadata": {},
   "outputs": [],
   "source": [
    "iqr = q3-q1\n",
    "upper_fence = q3 + 1.5*iqr\n",
    "lower_fence = q1 - 1.5*iqr\n",
    "print(upper_fence, lower_fence)"
   ]
  },
  {
   "cell_type": "code",
   "execution_count": null,
   "id": "96d7f035",
   "metadata": {},
   "outputs": [],
   "source": [
    "outliers = co.loc[(co > upper_fence) | (co < 0)]\n",
    "outliers"
   ]
  },
  {
   "cell_type": "code",
   "execution_count": null,
   "id": "424bfe0f",
   "metadata": {},
   "outputs": [],
   "source": [
    "import seaborn as sns\n",
    "sns.distplot(co)\n",
    "\n",
    "mean = np.mean(co)\n",
    "std = np.std(co)\n",
    "print(mean, std)"
   ]
  },
  {
   "cell_type": "code",
   "execution_count": null,
   "id": "a0dd37e3",
   "metadata": {},
   "outputs": [],
   "source": [
    "outliers = []\n",
    "thres = 3 # Z-score threshold\n",
    "for i in co:\n",
    "z_score = (i-mean) / std\n",
    "if (np.abs(z_score) > thres):\n",
    "print(z_score)\n",
    "outliers.append(i)\n"
   ]
  },
  {
   "cell_type": "code",
   "execution_count": null,
   "id": "b9ed5ff7",
   "metadata": {},
   "outputs": [],
   "source": [
    "floor = co.quantile(0.1)\n",
    "cap = co.quantile(0.9)\n",
    "co.loc[co < floor] = floor\n",
    "co.loc[co > cap] = cap"
   ]
  }
 ],
 "metadata": {
  "kernelspec": {
   "display_name": "Python 3",
   "language": "python",
   "name": "python3"
  },
  "language_info": {
   "codemirror_mode": {
    "name": "ipython",
    "version": 3
   },
   "file_extension": ".py",
   "mimetype": "text/x-python",
   "name": "python",
   "nbconvert_exporter": "python",
   "pygments_lexer": "ipython3",
   "version": "3.8.8"
  }
 },
 "nbformat": 4,
 "nbformat_minor": 5
}
