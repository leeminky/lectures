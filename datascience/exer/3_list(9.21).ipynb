{
 "cells": [
  {
   "cell_type": "code",
   "execution_count": 3,
   "id": "57ff6297",
   "metadata": {},
   "outputs": [
    {
     "name": "stdout",
     "output_type": "stream",
     "text": [
      "[2, 3, 5, 7, 11, 2]\n",
      "[]\n"
     ]
    }
   ],
   "source": [
    "\"\"\"\n",
    "list\n",
    "\"\"\"\n",
    "\n",
    "primes=[2,3,5,7,11,2]\n",
    "print(primes)\n",
    "\n",
    "empty_list=[]\n",
    "print(empty_list)"
   ]
  },
  {
   "cell_type": "code",
   "execution_count": 5,
   "id": "41b576ef",
   "metadata": {},
   "outputs": [
    {
     "name": "stdout",
     "output_type": "stream",
     "text": [
      "[1, 2, 3, 4, 10]\n",
      "['Jenny', 'Sam', 'Alexsis']\n",
      "['Jenny', 1, 2]\n",
      "[['a', 1], ['b', 2]]\n"
     ]
    }
   ],
   "source": [
    "numbers=[1,2,3,4,10]\n",
    "names=['Jenny','Sam','Alexsis']\n",
    "mixed=['Jenny',1,2]\n",
    "List_of_lists=[['a',1],['b',2]]\n",
    "print(numbers)\n",
    "print(names)\n",
    "print(mixed)\n",
    "print(List_of_lists)"
   ]
  },
  {
   "cell_type": "code",
   "execution_count": 7,
   "id": "67ca326e",
   "metadata": {},
   "outputs": [
    {
     "name": "stdout",
     "output_type": "stream",
     "text": [
      "Roger\n",
      "Rafael\n",
      "Andy\n",
      "Novak\n",
      "Novak\n",
      "Andy\n",
      "Rafael\n",
      "Roger\n"
     ]
    }
   ],
   "source": [
    "\"\"\"\n",
    "zero-indexing\n",
    "\"\"\"\n",
    "names=['Roger','Rafael','Andy','Novak']\n",
    "print(names[0])\n",
    "print(names[1])\n",
    "print(names[2])\n",
    "print(names[3])\n",
    "\n",
    "\"\"\"\n",
    "negative list indices\n",
    "\"\"\"\n",
    "print(names[-1])\n",
    "print(names[-2])\n",
    "print(names[-3])\n",
    "print(names[-4])"
   ]
  },
  {
   "cell_type": "code",
   "execution_count": 9,
   "id": "d80b4563",
   "metadata": {},
   "outputs": [
    {
     "name": "stdout",
     "output_type": "stream",
     "text": [
      "['만우관', '장공관', '필현관', '소통관', '송암관', '늦봄관', '장준하통일관']\n",
      "['생활관', '필현관', '소통관']\n"
     ]
    }
   ],
   "source": [
    "\"\"\"\n",
    "list Slicing\n",
    "\"\"\"\n",
    "hsu_buildings=['만우관','장공관','필현관','소통관','송암관','늦봄관','장준하통일관']\n",
    "building_slice=hsu_buildings[1:4]\n",
    "building_slice[0]='생활관'\n",
    "\n",
    "print(hsu_buildings)  #(hsu_buildings[:])\n",
    "print(building_slice)"
   ]
  },
  {
   "cell_type": "code",
   "execution_count": 13,
   "id": "fac62e55",
   "metadata": {},
   "outputs": [
    {
     "name": "stdout",
     "output_type": "stream",
     "text": [
      "[['해우리', '한식', '고S'], ['짜장명가', '중식', '중화비빔밥'], ['찌개동아리', '한식', '제육전골'], ['맘스터치', '양식', '싸이버거']]\n",
      "중화비빔밥\n",
      "['해우리', '한식', '해우라면']\n"
     ]
    }
   ],
   "source": [
    "\"\"\"\n",
    "multi-dimensional lists\n",
    "\"\"\"\n",
    "restaurants=[['해우리','한식','고S'],['짜장명가','중식','중화비빔밥'],['찌개동아리','한식','제육전골'],['맘스터치','양식','싸이버거']]\n",
    "\n",
    "print(restaurants)\n",
    "print(restaurants[1][2])\n",
    "restaurants[0][2]='해우라면'\n",
    "print(restaurants[0])\n"
   ]
  },
  {
   "cell_type": "code",
   "execution_count": 14,
   "id": "6c7a8e2e",
   "metadata": {},
   "outputs": [
    {
     "name": "stdout",
     "output_type": "stream",
     "text": [
      "['cake', 'cookie', 'bread', 'biscuit', 'tart']\n"
     ]
    }
   ],
   "source": [
    "\"\"\"\n",
    "adding lists together\n",
    "\"\"\"\n",
    "items_one=['cake','cookie','bread']\n",
    "items_two=['biscuit','tart']\n",
    "\n",
    "total_items=items_one+items_two\n",
    "print(total_items)"
   ]
  },
  {
   "cell_type": "code",
   "execution_count": 20,
   "id": "da949476",
   "metadata": {},
   "outputs": [
    {
     "name": "stdout",
     "output_type": "stream",
     "text": [
      "5\n",
      "3\n",
      "['daisies', 'periwinkle', 'tulips']\n",
      "['Karla', 'Maxium', 'Vikor', 'Martim', 'Isabella']\n"
     ]
    }
   ],
   "source": [
    "\"\"\"\n",
    "useful methods of lists\n",
    "\"\"\"\n",
    "#len()\n",
    "knapsck=[2,4,3,7,10]\n",
    "size=len(knapsck)\n",
    "print(size)\n",
    "\n",
    "#count()\n",
    "backpack=['pencil','pen','notebook','textbook','pen','highlighter','pen']\n",
    "numPen=backpack.count('pen')\n",
    "print(numPen)\n",
    "\n",
    "#append()\n",
    "orders=['daisies','periwinkle']\n",
    "orders.append('tulips')\n",
    "print(orders)\n",
    "\n",
    "#insert()\n",
    "store_line=['Karla','Maxium','Martim','Isabella']\n",
    "store_line.insert(2,'Vikor')\n",
    "print(store_line)\n",
    "\n"
   ]
  },
  {
   "cell_type": "code",
   "execution_count": 26,
   "id": "2bbcf440",
   "metadata": {},
   "outputs": [
    {
     "name": "stdout",
     "output_type": "stream",
     "text": [
      "['C programming', 'Calculus', 'Data Structures', 'Machine Learning']\n",
      "['C programming', 'Calculus', 'Data Structures']\n"
     ]
    }
   ],
   "source": [
    "#pop\n",
    "sw_subjects=['C programming','Calculus','Data Engineering','Data Structures','Machine Learning']\n",
    "sw_subjects.pop(2)\n",
    "print(sw_subjects)\n",
    "\n",
    "sw_subjects.pop()\n",
    "print(sw_subjects)"
   ]
  },
  {
   "cell_type": "code",
   "execution_count": 28,
   "id": "c7f6929e",
   "metadata": {},
   "outputs": [
    {
     "ename": "ValueError",
     "evalue": "list.remove(x): x not in list",
     "output_type": "error",
     "traceback": [
      "\u001b[1;31m---------------------------------------------------------------------------\u001b[0m",
      "\u001b[1;31mValueError\u001b[0m                                Traceback (most recent call last)",
      "\u001b[1;32m<ipython-input-28-745f2fc22aab>\u001b[0m in \u001b[0;36m<module>\u001b[1;34m\u001b[0m\n\u001b[0;32m      1\u001b[0m \u001b[1;31m#remove\u001b[0m\u001b[1;33m\u001b[0m\u001b[1;33m\u001b[0m\u001b[1;33m\u001b[0m\u001b[0m\n\u001b[0;32m      2\u001b[0m \u001b[1;33m\u001b[0m\u001b[0m\n\u001b[1;32m----> 3\u001b[1;33m \u001b[0msw_subjects\u001b[0m\u001b[1;33m.\u001b[0m\u001b[0mremove\u001b[0m\u001b[1;33m(\u001b[0m\u001b[1;34m'Calculus'\u001b[0m\u001b[1;33m)\u001b[0m\u001b[1;33m\u001b[0m\u001b[1;33m\u001b[0m\u001b[0m\n\u001b[0m\u001b[0;32m      4\u001b[0m \u001b[0mprint\u001b[0m\u001b[1;33m(\u001b[0m\u001b[0msw_subjects\u001b[0m\u001b[1;33m)\u001b[0m\u001b[1;33m\u001b[0m\u001b[1;33m\u001b[0m\u001b[0m\n\u001b[0;32m      5\u001b[0m \u001b[1;33m\u001b[0m\u001b[0m\n",
      "\u001b[1;31mValueError\u001b[0m: list.remove(x): x not in list"
     ]
    }
   ],
   "source": [
    "#remove\n",
    "\n",
    "sw_subjects.remove('Calculus')\n",
    "print(sw_subjects)\n",
    "\n",
    "sw_subjects.remove('Algorithms')"
   ]
  },
  {
   "cell_type": "code",
   "execution_count": 22,
   "id": "f4cad273",
   "metadata": {},
   "outputs": [
    {
     "name": "stdout",
     "output_type": "stream",
     "text": [
      "[1, 2, 3, 4]\n",
      "['늦봄관', '만우관', '소통관', '송암관', '장공관', '장준하통일관', '필현관']\n",
      "[1, 2, 3, 4]\n"
     ]
    }
   ],
   "source": [
    "#sort()\n",
    "numbers=[4,2,1,3]\n",
    "numbers.sort()\n",
    "print(numbers)\n",
    "\n",
    "hsu_buildings=['만우관','장공관','필현관','소통관','송암관','늦봄관','장준하통일관']\n",
    "hsu_buildings.sort()\n",
    "print(hsu_buildings)\n",
    "\n",
    "#sorted()\n",
    "numbers=[4,2,1,3]\n",
    "sorted_numbers=sorted(numbers)\n",
    "print(sorted_numbers)"
   ]
  },
  {
   "cell_type": "code",
   "execution_count": null,
   "id": "6da460da",
   "metadata": {},
   "outputs": [],
   "source": []
  }
 ],
 "metadata": {
  "kernelspec": {
   "display_name": "Python 3",
   "language": "python",
   "name": "python3"
  },
  "language_info": {
   "codemirror_mode": {
    "name": "ipython",
    "version": 3
   },
   "file_extension": ".py",
   "mimetype": "text/x-python",
   "name": "python",
   "nbconvert_exporter": "python",
   "pygments_lexer": "ipython3",
   "version": "3.8.8"
  }
 },
 "nbformat": 4,
 "nbformat_minor": 5
}
