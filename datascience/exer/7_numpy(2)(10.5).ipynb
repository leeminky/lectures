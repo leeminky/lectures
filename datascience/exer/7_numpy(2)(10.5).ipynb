{
 "cells": [
  {
   "cell_type": "code",
   "execution_count": 1,
   "id": "1ba3e107",
   "metadata": {},
   "outputs": [],
   "source": [
    "import numpy as np\n",
    "import pandas as pd\n",
    "from matplotlib import pyplot as plt"
   ]
  },
  {
   "cell_type": "code",
   "execution_count": 4,
   "id": "8372fe1b",
   "metadata": {},
   "outputs": [
    {
     "name": "stdout",
     "output_type": "stream",
     "text": [
      "[0 1 2]\n",
      "[3 4 5 6 7 8]\n",
      "[3 5 7]\n"
     ]
    }
   ],
   "source": [
    "\"\"\"\n",
    "creating an array\n",
    "\"\"\"\n",
    "print(np.arange(3))\n",
    "print(np.arange(3,9))\n",
    "print(np.arange(3,9,2))"
   ]
  },
  {
   "cell_type": "code",
   "execution_count": 8,
   "id": "667cbce7",
   "metadata": {},
   "outputs": [
    {
     "name": "stdout",
     "output_type": "stream",
     "text": [
      "[5 0 3 3 7 9]\n",
      "[[3 5 2 4]\n",
      " [7 6 8 8]\n",
      " [1 6 7 7]]\n",
      "[[[8 1 5 9 8]\n",
      "  [9 4 3 0 3]\n",
      "  [5 0 2 3 8]\n",
      "  [1 3 3 3 7]]\n",
      "\n",
      " [[0 1 9 9 0]\n",
      "  [4 7 3 2 7]\n",
      "  [2 0 0 4 5]\n",
      "  [5 6 8 4 1]]\n",
      "\n",
      " [[4 9 8 1 1]\n",
      "  [7 9 9 3 6]\n",
      "  [7 2 0 3 5]\n",
      "  [9 4 4 6 4]]]\n"
     ]
    }
   ],
   "source": [
    "#seed for reproducibility\n",
    "np.random.seed(0)\n",
    "\n",
    "arr1=np.random.randint(10,size=6)\n",
    "arr2=np.random.randint(10,size=(3,4))\n",
    "arr3=np.random.randint(10,size=(3,4,5))\n",
    "print(arr1)\n",
    "print(arr2)\n",
    "print(arr3)"
   ]
  },
  {
   "cell_type": "code",
   "execution_count": 16,
   "id": "4a0ebe33",
   "metadata": {},
   "outputs": [
    {
     "name": "stdout",
     "output_type": "stream",
     "text": [
      "2\n",
      "(3, 4)\n",
      "12\n",
      "int32\n",
      "4\n",
      "48\n"
     ]
    }
   ],
   "source": [
    "print(arr2.ndim)\n",
    "print(arr2.shape)\n",
    "print(arr2.size)\n",
    "print(arr2.dtype)\n",
    "print(arr2.itemsize)\n",
    "print(arr2.nbytes)"
   ]
  },
  {
   "cell_type": "code",
   "execution_count": 18,
   "id": "6bee1657",
   "metadata": {},
   "outputs": [
    {
     "name": "stdout",
     "output_type": "stream",
     "text": [
      "[0 1 2 3 4 5 6 7 8 9]\n",
      "[3 4 5 6]\n",
      "[0 1 2 3 4]\n",
      "[5 6 7 8 9]\n",
      "[0 3 6 9]\n",
      "[2 4 6]\n"
     ]
    }
   ],
   "source": [
    "\"\"\"\n",
    "array slicing\n",
    "\"\"\"\n",
    "arr=np.arange(10)\n",
    "print(arr)\n",
    "\n",
    "print(arr[3:7])\n",
    "print(arr[:5])\n",
    "print(arr[5:])\n",
    "print(arr[::3])\n",
    "print(arr[2:8:2])"
   ]
  },
  {
   "cell_type": "code",
   "execution_count": 23,
   "id": "e6d09105",
   "metadata": {},
   "outputs": [
    {
     "name": "stdout",
     "output_type": "stream",
     "text": [
      "[[3 0 0 6 0 6 3 3]\n",
      " [8 8 8 2 3 2 0 8]\n",
      " [8 3 8 2 8 4 3 0]\n",
      " [4 3 6 9 8 0 8 5]\n",
      " [9 0 9 6 5 3 1 8]\n",
      " [0 4 9 6 5 7 8 8]]\n",
      "[[8 0 8]\n",
      " [5 3 1]]\n",
      "[[3 0 0]\n",
      " [8 8 8]]\n",
      "[[3 0 0 3]\n",
      " [8 8 3 0]\n",
      " [8 8 8 3]]\n"
     ]
    }
   ],
   "source": [
    "\"\"\"\n",
    "multi-dimensional\n",
    "\"\"\"\n",
    "arr=np.random.randint(10,size=(6,8))\n",
    "print(arr)\n",
    "\n",
    "print(arr [3:5,4:7])\n",
    "#실습문제\n",
    "print(arr[:2,:3])\n",
    "print(arr[:3,::2])"
   ]
  },
  {
   "cell_type": "code",
   "execution_count": 25,
   "id": "a6e49175",
   "metadata": {},
   "outputs": [
    {
     "name": "stdout",
     "output_type": "stream",
     "text": [
      "[[5 8 9 5]\n",
      " [0 0 1 7]\n",
      " [6 9 2 4]] \n",
      "\n",
      "[[5 8]\n",
      " [0 0]] \n",
      "\n",
      "[[99  8  9  5]\n",
      " [ 0  0  1  7]\n",
      " [ 6  9  2  4]]\n"
     ]
    }
   ],
   "source": [
    "\"\"\"\n",
    "subarrays as views\n",
    "\"\"\"\n",
    "np.random.seed(1)\n",
    "arr=np.random.randint(10,size=(3,4))\n",
    "print(arr,\"\\n\")\n",
    "\n",
    "arr_sub=arr[:2,:2]\n",
    "print(arr_sub,\"\\n\")\n",
    "\n",
    "arr_sub[0,0]=99\n",
    "print(arr)"
   ]
  },
  {
   "cell_type": "code",
   "execution_count": 26,
   "id": "9f041d45",
   "metadata": {},
   "outputs": [
    {
     "name": "stdout",
     "output_type": "stream",
     "text": [
      "[[5 2 4]\n",
      " [2 4 7]]\n",
      "[[5 2]\n",
      " [2 4]] \n",
      "\n",
      "[[99  2]\n",
      " [ 2  4]]\n"
     ]
    }
   ],
   "source": [
    "#copy\n",
    "arr=np.random.randint(10,size=(2,3))\n",
    "print(arr)\n",
    "arr_sub=arr[:2,:2].copy()\n",
    "print(arr_sub,\"\\n\")\n",
    "\n",
    "arr_sub[0,0]=99\n",
    "print(arr_sub)"
   ]
  },
  {
   "cell_type": "code",
   "execution_count": 33,
   "id": "65e752a9",
   "metadata": {},
   "outputs": [
    {
     "name": "stdout",
     "output_type": "stream",
     "text": [
      "[[8 7 3 6 5 1 9 3 4]]\n",
      "[[8 7 3]\n",
      " [6 5 1]\n",
      " [9 3 4]]\n"
     ]
    }
   ],
   "source": [
    "\"\"\"\n",
    "reshaping of arrays\n",
    "\"\"\"\n",
    "arr=np.random.randint(10,size=(1,9))\n",
    "print(arr)\n",
    "grid=arr.reshape(3,3)\n",
    "print(grid)"
   ]
  },
  {
   "cell_type": "code",
   "execution_count": 37,
   "id": "eb0c663f",
   "metadata": {},
   "outputs": [
    {
     "name": "stdout",
     "output_type": "stream",
     "text": [
      "[1 2 3]\n",
      "arr.ndim= 1\n",
      "arr.shape= (3,)\n",
      "[[1 2 3]]\n",
      "arr_new.ndim= 2\n",
      "arr_new.shape= (1, 3)\n"
     ]
    }
   ],
   "source": [
    "#np.newaxis\n",
    "\n",
    "arr=np.array([1,2,3])\n",
    "print(arr)\n",
    "print(\"arr.ndim=\",arr.ndim)\n",
    "print(\"arr.shape=\",arr.shape)\n",
    "\n",
    "#arr_new=arr[:,np.newaxis]\n",
    "arr_new=arr[np.newaxis,:]\n",
    "print(arr_new)\n",
    "print(\"arr_new.ndim=\",arr_new.ndim)\n",
    "print(\"arr_new.shape=\",arr_new.shape)"
   ]
  },
  {
   "cell_type": "code",
   "execution_count": 40,
   "id": "47ed2d45",
   "metadata": {},
   "outputs": [
    {
     "name": "stdout",
     "output_type": "stream",
     "text": [
      "[1 2 3 4 5 6 7 8 9] \n",
      "\n",
      "[[1 2 3]\n",
      " [4 5 6]\n",
      " [7 8 9]] \n",
      "\n"
     ]
    }
   ],
   "source": [
    "#concatenate\n",
    "arr_1=np.array([1,2,3])\n",
    "arr_2=np.array([4,5,6])\n",
    "arr_3=np.array([7,8,9])\n",
    "\n",
    "arr_total=np.concatenate([arr_1,arr_2,arr_3])\n",
    "arr_total1=np.vstack([arr_1,arr_2,arr_3])\n",
    "print(arr_total,\"\\n\")\n",
    "print(arr_total1,\"\\n\")"
   ]
  },
  {
   "cell_type": "code",
   "execution_count": 46,
   "id": "a201bdf7",
   "metadata": {},
   "outputs": [
    {
     "name": "stdout",
     "output_type": "stream",
     "text": [
      "[1, 2, 3, 99, 99, 3, 2, 1] \n",
      "\n",
      "[1 2 3]\n",
      "[99 99]\n",
      "[3 2 1]\n"
     ]
    }
   ],
   "source": [
    "arr=[1,2,3,99,99,3,2,1]\n",
    "print(arr,\"\\n\")\n",
    "\n",
    "arr_1,arr_2,arr_3=np.split(arr,[3,5])\n",
    "print(arr_1)\n",
    "print(arr_2)\n",
    "print(arr_3)"
   ]
  },
  {
   "cell_type": "code",
   "execution_count": null,
   "id": "31062d9a",
   "metadata": {},
   "outputs": [],
   "source": []
  }
 ],
 "metadata": {
  "kernelspec": {
   "display_name": "Python 3",
   "language": "python",
   "name": "python3"
  },
  "language_info": {
   "codemirror_mode": {
    "name": "ipython",
    "version": 3
   },
   "file_extension": ".py",
   "mimetype": "text/x-python",
   "name": "python",
   "nbconvert_exporter": "python",
   "pygments_lexer": "ipython3",
   "version": "3.8.8"
  }
 },
 "nbformat": 4,
 "nbformat_minor": 5
}
