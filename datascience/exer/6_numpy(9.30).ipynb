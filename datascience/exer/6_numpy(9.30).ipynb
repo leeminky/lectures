{
 "cells": [
  {
   "cell_type": "code",
   "execution_count": 1,
   "id": "a536dd11",
   "metadata": {},
   "outputs": [],
   "source": [
    "import numpy as np\n",
    "import pandas as pd\n",
    "from matplotlib import pyplot as plt"
   ]
  },
  {
   "cell_type": "code",
   "execution_count": 8,
   "id": "ce602c46",
   "metadata": {},
   "outputs": [
    {
     "name": "stdout",
     "output_type": "stream",
     "text": [
      "[1.5 2.  3.5 4.2]\n",
      "['1.5' 'string' 'True']\n"
     ]
    }
   ],
   "source": [
    "\"\"\"\n",
    "numpy array\n",
    "\"\"\"\n",
    "\n",
    "lst=[1.5,2.0,3.5,4.2]\n",
    "lst1=[1.5,\"string\",True]\n",
    "\n",
    "arr=np.array(lst)\n",
    "arr1=np.array(lst1)\n",
    "print(arr)\n",
    "print(arr1)\n"
   ]
  },
  {
   "cell_type": "code",
   "execution_count": 10,
   "id": "4dbe5186",
   "metadata": {},
   "outputs": [
    {
     "name": "stdout",
     "output_type": "stream",
     "text": [
      "float64\n",
      "<U32\n"
     ]
    }
   ],
   "source": [
    "\"\"\"\n",
    "dtype\n",
    "\"\"\"\n",
    "print(arr.dtype)\n",
    "print(arr1.dtype)"
   ]
  },
  {
   "cell_type": "code",
   "execution_count": 12,
   "id": "2a0ffdf2",
   "metadata": {},
   "outputs": [
    {
     "name": "stdout",
     "output_type": "stream",
     "text": [
      "416\n",
      "96\n",
      "192\n",
      "172\n"
     ]
    }
   ],
   "source": [
    "\"\"\"\n",
    "size \n",
    "\"\"\"\n",
    "from sys import getsizeof\n",
    "\n",
    "lst=[1]\n",
    "print(getsizeof(list)) #int+object meta info\n",
    "\n",
    "arr=np.array(list)\n",
    "print(getsizeof(arr)) #int(dtypes)\n",
    "\n",
    "lst1=[1,2,3,4,5,6,7,8,9,10,11,12,13,14,15,16,17]\n",
    "print(getsizeof(lst1))\n",
    "\n",
    "arr2=np.array(lst1)\n",
    "print(getsizeof(arr2))"
   ]
  },
  {
   "cell_type": "code",
   "execution_count": 13,
   "id": "17368d25",
   "metadata": {},
   "outputs": [
    {
     "name": "stdout",
     "output_type": "stream",
     "text": [
      "[25, 20, 35, 15, 15, 30, 45, 30]\n",
      "[25 20 35 15 15 30 45 30]\n"
     ]
    }
   ],
   "source": [
    "prices=[30,25,40,20,20,35,50,35]\n",
    "#with a list\n",
    "new_prices=[price-5 for price in prices]\n",
    "print(new_prices)\n",
    "#with a ndarray\n",
    "prices_arr=np.array(prices)\n",
    "prices_arr=prices_arr-5\n",
    "print(prices_arr)\n"
   ]
  },
  {
   "cell_type": "code",
   "execution_count": 14,
   "id": "98802742",
   "metadata": {},
   "outputs": [
    {
     "name": "stdout",
     "output_type": "stream",
     "text": [
      "[89 87 74 92 94]\n",
      "[258 279 246 274 270]\n",
      "[86.         93.         82.         91.33333333 90.        ]\n",
      "93\n",
      "[94 88]\n"
     ]
    }
   ],
   "source": [
    "\"\"\"\n",
    "exercise\n",
    "\"\"\"\n",
    "test_1=np.array([92,94,88,91,87])\n",
    "test_2=np.array([79,100,86,93,91])\n",
    "test_3=np.array([87,85,72,90,92])\n",
    "\n",
    "test_3_fixed=test_3+2\n",
    "print(test_3_fixed)\n",
    "\n",
    "total_grade=test_1+test_2+test_3\n",
    "print(total_grade)\n",
    "\n",
    "final_grade=total_grade /3\n",
    "print(final_grade)\n",
    "\n",
    "jeremy_test_2=test_2[3]\n",
    "print(jeremy_test_2)\n",
    "\n",
    "manual_adwoa_test_1=np.array([test_1[1],test_1[2]])\n",
    "print(manual_adwoa_test_1)"
   ]
  },
  {
   "cell_type": "code",
   "execution_count": 17,
   "id": "23efbfeb",
   "metadata": {},
   "outputs": [
    {
     "name": "stdout",
     "output_type": "stream",
     "text": [
      "[[ 92  94  88  91  87]\n",
      " [ 79 100  86  93  91]\n",
      " [ 87  85  72  90  92]]\n",
      "87\n",
      "[87 91 92]\n",
      "[87 91 92]\n"
     ]
    }
   ],
   "source": [
    "student_scores=np.array([test_1,test_2,test_3])\n",
    "print(student_scores)\n",
    "\n",
    "print(student_scores[2][0])\n",
    "\n",
    "print(student_scores[:,4])\n",
    "print(student_scores[:,-1])\n"
   ]
  },
  {
   "cell_type": "code",
   "execution_count": 19,
   "id": "b371c980",
   "metadata": {},
   "outputs": [
    {
     "name": "stdout",
     "output_type": "stream",
     "text": [
      "[ True False False False False False  True  True  True  True]\n",
      "[10  9  8  9  7]\n",
      "[10  2  2  9  8  9  7]\n",
      "[10  2  2  9  8  9  7]\n",
      "[5 7]\n"
     ]
    }
   ],
   "source": [
    "\"\"\"\n",
    "logical poerations\n",
    "\"\"\"\n",
    "a=np.array([10,2,2,4,5,3,9,8,9,7])\n",
    "mask=a>5\n",
    "print(mask)\n",
    "\n",
    "#부분집합 구하기(selection)\n",
    "selected=a[a>5]\n",
    "print(selected)\n",
    "\n",
    "#논리식 결합\n",
    "selected=a[(a>5)|(a<3)]\n",
    "print(selected)\n",
    "\n",
    "sclceted=a[(a>6)|(a<4)]\n",
    "print(selected)\n",
    "\n",
    "selected=a[(a>4)&(a<8)]\n",
    "print(selected)"
   ]
  },
  {
   "cell_type": "code",
   "execution_count": 20,
   "id": "d4a92d03",
   "metadata": {},
   "outputs": [],
   "source": [
    "#exercise2"
   ]
  },
  {
   "cell_type": "code",
   "execution_count": null,
   "id": "2901c737",
   "metadata": {},
   "outputs": [],
   "source": []
  }
 ],
 "metadata": {
  "kernelspec": {
   "display_name": "Python 3",
   "language": "python",
   "name": "python3"
  },
  "language_info": {
   "codemirror_mode": {
    "name": "ipython",
    "version": 3
   },
   "file_extension": ".py",
   "mimetype": "text/x-python",
   "name": "python",
   "nbconvert_exporter": "python",
   "pygments_lexer": "ipython3",
   "version": "3.8.8"
  }
 },
 "nbformat": 4,
 "nbformat_minor": 5
}
