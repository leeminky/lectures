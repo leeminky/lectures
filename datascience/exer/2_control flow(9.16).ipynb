{
 "cells": [
  {
   "cell_type": "code",
   "execution_count": 7,
   "id": "96a37726",
   "metadata": {},
   "outputs": [
    {
     "name": "stdout",
     "output_type": "stream",
     "text": [
      "흥민이는 정처기 시험을 응시했는가? True\n",
      "흥민이는 정처기 시험을 통과했는가? False\n",
      "<class 'bool'>\n",
      "<class 'bool'>\n",
      "<class 'str'>\n",
      "<class 'int'>\n",
      "<class 'float'>\n"
     ]
    }
   ],
   "source": [
    "\"\"\"\n",
    "Boolean Valus\n",
    "True,False\n",
    "\"\"\"\n",
    "\n",
    "is_tested=True\n",
    "is_passed=False\n",
    "\n",
    "print(\"흥민이는 정처기 시험을 응시했는가?\",is_tested)\n",
    "print(\"흥민이는 정처기 시험을 통과했는가?\",is_passed)\n",
    "\n",
    "print(type(is_tested))\n",
    "print(type(is_passed))\n",
    "\n",
    "a=\"3.14\"\n",
    "print(type(a))\n",
    "a=1\n",
    "print(type(a))\n",
    "a=3.14\n",
    "print(type(a))"
   ]
  },
  {
   "cell_type": "code",
   "execution_count": 9,
   "id": "2efd94b8",
   "metadata": {},
   "outputs": [
    {
     "data": {
      "text/plain": [
       "True"
      ]
     },
     "execution_count": 9,
     "metadata": {},
     "output_type": "execute_result"
    }
   ],
   "source": [
    "\"\"\"\n",
    "relational operators\n",
    "\"\"\"\n",
    "\n",
    "a=2\n",
    "b=3\n",
    "\n",
    "a<b\n",
    "a>b\n",
    "a>=b\n",
    "a<=b\n",
    "a<=a"
   ]
  },
  {
   "cell_type": "code",
   "execution_count": 10,
   "id": "ce0495c9",
   "metadata": {},
   "outputs": [
    {
     "name": "stdout",
     "output_type": "stream",
     "text": [
      "True\n",
      "True\n",
      "False\n"
     ]
    }
   ],
   "source": [
    "\"\"\"\n",
    "equal operator ==\n",
    "\"\"\"\n",
    "#1\n",
    "print(\"Yes\"==\"Yes\")\n",
    "#2\n",
    "print((2>1)==(5<10))\n",
    "#3\n",
    "c='2'\n",
    "d=2\n",
    "print(c==d)"
   ]
  },
  {
   "cell_type": "code",
   "execution_count": 11,
   "id": "a709ecc2",
   "metadata": {},
   "outputs": [
    {
     "name": "stdout",
     "output_type": "stream",
     "text": [
      "True\n",
      "True\n",
      "True\n"
     ]
    }
   ],
   "source": [
    "\"\"\"\n",
    "npt equals operator !=\n",
    "\"\"\"\n",
    "#1\n",
    "print(\"Yes\"!=\"No\")\n",
    "#2\n",
    "val1=12\n",
    "val2=20\n",
    "print(val1 != val2)\n",
    "#3\n",
    "print((10>1)!=(10>1000))"
   ]
  },
  {
   "cell_type": "code",
   "execution_count": 16,
   "id": "786913ff",
   "metadata": {},
   "outputs": [
    {
     "name": "stdout",
     "output_type": "stream",
     "text": [
      "아! 말티푸구나.\n",
      "True\n"
     ]
    }
   ],
   "source": [
    "\"\"\"\n",
    "conditional statements if/elif/else\n",
    "\"\"\"\n",
    "puppy=\"maltepoo\"\n",
    "age=1\n",
    "is_yes=False\n",
    "\n",
    "if puppy == \"maltese\":\n",
    "    print(\"말티즈\")\n",
    "    is_yes=True\n",
    "    \n",
    "    if age>3:\n",
    "        print(\"말티즈 새끼.\")\n",
    "    \n",
    "elif puppy == \"poodle\":\n",
    "    print(\" 푸들\")\n",
    "    is_yes=True\n",
    "elif puppy == \"shihtzu\":\n",
    "    pirnt(\"시츄\")\n",
    "    is_yes=True\n",
    "else:\n",
    "    print(\"아! 말티푸구나.\")\n",
    "    is_yes=True\n",
    "print(is_yes)\n"
   ]
  },
  {
   "cell_type": "code",
   "execution_count": 18,
   "id": "899691f8",
   "metadata": {},
   "outputs": [
    {
     "name": "stdout",
     "output_type": "stream",
     "text": [
      "[ERROR]: y is not declared\n",
      "continue...\n"
     ]
    }
   ],
   "source": [
    "\"\"\"\n",
    "handling exception \n",
    "\"\"\"\n",
    "\n",
    "x=1\n",
    "\n",
    "try:\n",
    "    print(y)\n",
    "    print(x)\n",
    "except:\n",
    "    print(\"[ERROR]: y is not declared\")\n",
    "print(\"continue...\")"
   ]
  },
  {
   "cell_type": "code",
   "execution_count": null,
   "id": "b358fbcd",
   "metadata": {},
   "outputs": [],
   "source": []
  }
 ],
 "metadata": {
  "kernelspec": {
   "display_name": "Python 3",
   "language": "python",
   "name": "python3"
  },
  "language_info": {
   "codemirror_mode": {
    "name": "ipython",
    "version": 3
   },
   "file_extension": ".py",
   "mimetype": "text/x-python",
   "name": "python",
   "nbconvert_exporter": "python",
   "pygments_lexer": "ipython3",
   "version": "3.8.8"
  }
 },
 "nbformat": 4,
 "nbformat_minor": 5
}
