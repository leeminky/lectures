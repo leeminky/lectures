{
 "cells": [
  {
   "cell_type": "code",
   "execution_count": 7,
   "id": "a84134e7",
   "metadata": {},
   "outputs": [
    {
     "name": "stdout",
     "output_type": "stream",
     "text": [
      "hello world!\n",
      "100\n",
      "3.14\n",
      "My name isminkyoung lee!\n"
     ]
    }
   ],
   "source": [
    "\"\"\"\n",
    "hello world\n",
    "\"\"\"\n",
    "\n",
    "print(\"hello world!\")\n",
    "print(100)\n",
    "pi=3.14\n",
    "print(pi)\n",
    "\n",
    "introduce=\"My name is\"\n",
    "name=\"minkyoung lee\"\n",
    "print(introduce+name+\"!\")"
   ]
  },
  {
   "cell_type": "code",
   "execution_count": 15,
   "id": "f8b7331b",
   "metadata": {},
   "outputs": [
    {
     "name": "stdout",
     "output_type": "stream",
     "text": [
      "x= 1\n",
      "Address of x: 140727185319728\n",
      "x= 2\n",
      "Address of x: 140727185319760\n"
     ]
    }
   ],
   "source": [
    "\"\"\"\n",
    "variable\n",
    "\"\"\"\n",
    "\n",
    "user_name= \"minkyoung lee\"\n",
    "user_id= 201955085\n",
    "user_email=\"lmk504@hs.ac.kr\"\n",
    "user_birthday=20000504\n",
    "\n",
    "#assignment\n",
    "x=1\n",
    "print('x=',x)\n",
    "print(\"Address of x:\",id(x))\n",
    "\n",
    "\n",
    "x=2\n",
    "print('x=',x)\n",
    "print(\"Address of x:\",id(x))"
   ]
  },
  {
   "cell_type": "code",
   "execution_count": 16,
   "id": "c2758f15",
   "metadata": {},
   "outputs": [],
   "source": [
    "\"\"\"\n",
    "data types:integers\n",
    "\"\"\"\n",
    "\n",
    "pens=6\n",
    "computers=2\n",
    "chairs=6\n",
    "broken_chairs=-1\n",
    "\n"
   ]
  },
  {
   "cell_type": "code",
   "execution_count": 17,
   "id": "c2a12b26",
   "metadata": {},
   "outputs": [],
   "source": [
    "\"\"\"\n",
    "data types:Real Numbers\n",
    "\"\"\"\n",
    "\n",
    "pi=3.14\n",
    "kospi_index=3125.76\n",
    "krw_usd_exchange=1176.83\n"
   ]
  },
  {
   "cell_type": "code",
   "execution_count": 21,
   "id": "8c46d0eb",
   "metadata": {},
   "outputs": [
    {
     "name": "stdout",
     "output_type": "stream",
     "text": [
      "chance favors the prepared mind.\n",
      "Elder scrolls\n",
      "sonny\n",
      "chance favors the prepared mind.Elder scrollssonny\n"
     ]
    }
   ],
   "source": [
    "\"\"\"\n",
    "data types: Strings\n",
    "\"\"\"\n",
    "\n",
    "favorite_motto=\"chance favors the prepared mind.\"\n",
    "favorite_game=\"Elder scrolls\"\n",
    "forvorite_athlete=\"sonny\"\n",
    "\n",
    "print(favorite_motto)\n",
    "print(favorite_game)\n",
    "print(forvorite_athlete)\n",
    "\n",
    "favorites=favorite_motto + favorite_game + forvorite_athlete\n",
    "print(favorites)"
   ]
  },
  {
   "cell_type": "code",
   "execution_count": 25,
   "id": "b4c8071b",
   "metadata": {},
   "outputs": [
    {
     "name": "stdout",
     "output_type": "stream",
     "text": [
      "4\n",
      "8\n",
      "64\n",
      "62\n",
      "31.0\n"
     ]
    }
   ],
   "source": [
    "\"\"\"\n",
    "x-equals operation\n",
    "\"\"\"\n",
    "\n",
    "a=2\n",
    "a+=2\n",
    "print(a)\n",
    "a*=2\n",
    "print(a)\n",
    "a**=2\n",
    "print(a)\n",
    "a-=2\n",
    "print(a)\n",
    "a/=2\n",
    "print(a)"
   ]
  },
  {
   "cell_type": "code",
   "execution_count": null,
   "id": "4e33a6d2",
   "metadata": {},
   "outputs": [],
   "source": []
  }
 ],
 "metadata": {
  "kernelspec": {
   "display_name": "Python 3",
   "language": "python",
   "name": "python3"
  },
  "language_info": {
   "codemirror_mode": {
    "name": "ipython",
    "version": 3
   },
   "file_extension": ".py",
   "mimetype": "text/x-python",
   "name": "python",
   "nbconvert_exporter": "python",
   "pygments_lexer": "ipython3",
   "version": "3.8.8"
  }
 },
 "nbformat": 4,
 "nbformat_minor": 5
}
