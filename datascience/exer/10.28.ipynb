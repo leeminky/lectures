{
 "cells": [
  {
   "cell_type": "code",
   "execution_count": 5,
   "id": "d018e885",
   "metadata": {},
   "outputs": [
    {
     "name": "stdout",
     "output_type": "stream",
     "text": [
      "<class 'datetime.datetime'>\n"
     ]
    }
   ],
   "source": [
    "from datetime import datetime\n",
    "t=datetime(year=2021,month=10,day=27)\n",
    "print(type(t))"
   ]
  },
  {
   "cell_type": "code",
   "execution_count": 9,
   "id": "c0df1cfc",
   "metadata": {},
   "outputs": [
    {
     "name": "stdout",
     "output_type": "stream",
     "text": [
      "2021-10-27 00:00:00\n"
     ]
    }
   ],
   "source": [
    "from dateutil import parser\n",
    "date=parser.parse(\"27th of October,2021\")\n",
    "print(date)"
   ]
  },
  {
   "cell_type": "code",
   "execution_count": 10,
   "id": "310f0ef4",
   "metadata": {},
   "outputs": [
    {
     "data": {
      "text/plain": [
       "'Wednesday'"
      ]
     },
     "execution_count": 10,
     "metadata": {},
     "output_type": "execute_result"
    }
   ],
   "source": [
    "date.strftime('%A')"
   ]
  },
  {
   "cell_type": "code",
   "execution_count": 13,
   "id": "b2ef51ef",
   "metadata": {},
   "outputs": [
    {
     "data": {
      "text/plain": [
       "numpy.ndarray"
      ]
     },
     "execution_count": 13,
     "metadata": {},
     "output_type": "execute_result"
    }
   ],
   "source": [
    "import numpy as np\n",
    "date=np.array('2021-10-27',dtype=np.datetime64)\n",
    "type(date)"
   ]
  },
  {
   "cell_type": "code",
   "execution_count": 16,
   "id": "dd7d2a4e",
   "metadata": {},
   "outputs": [
    {
     "name": "stdout",
     "output_type": "stream",
     "text": [
      "2021-10-27\n"
     ]
    }
   ],
   "source": [
    "date=np.datetime64('2021-10-27')\n",
    "print(date)"
   ]
  },
  {
   "cell_type": "code",
   "execution_count": 20,
   "id": "3d00a35a",
   "metadata": {},
   "outputs": [
    {
     "name": "stdout",
     "output_type": "stream",
     "text": [
      "2021-10-28T11:38\n"
     ]
    }
   ],
   "source": [
    "t=np.datetime64('2021-10-28 11:38')\n",
    "print(t)"
   ]
  },
  {
   "cell_type": "code",
   "execution_count": null,
   "id": "e3660350",
   "metadata": {},
   "outputs": [],
   "source": [
    "date+np.arange(12)"
   ]
  },
  {
   "cell_type": "code",
   "execution_count": 22,
   "id": "1d1f52b0",
   "metadata": {},
   "outputs": [
    {
     "name": "stdout",
     "output_type": "stream",
     "text": [
      "2021-10-28T11:39:10.200000000\n"
     ]
    }
   ],
   "source": [
    "t=np.datetime64('2021-10-28 11:39:10.20','ns')\n",
    "print(t)"
   ]
  },
  {
   "cell_type": "code",
   "execution_count": 24,
   "id": "f58961cc",
   "metadata": {},
   "outputs": [
    {
     "name": "stdout",
     "output_type": "stream",
     "text": [
      "2021-10-28 00:00:00\n"
     ]
    }
   ],
   "source": [
    "import pandas as pd\n",
    "date= pd.to_datetime(\"28th of October, 2021\")\n",
    "print(date)"
   ]
  },
  {
   "cell_type": "code",
   "execution_count": 25,
   "id": "503c9ee2",
   "metadata": {},
   "outputs": [
    {
     "data": {
      "text/plain": [
       "'Thursday'"
      ]
     },
     "execution_count": 25,
     "metadata": {},
     "output_type": "execute_result"
    }
   ],
   "source": [
    "date.strftime('%A')"
   ]
  },
  {
   "cell_type": "code",
   "execution_count": 32,
   "id": "de57583c",
   "metadata": {},
   "outputs": [
    {
     "name": "stdout",
     "output_type": "stream",
     "text": [
      "DatetimeIndex([          '2021-10-28 00:00:00',\n",
      "               '2021-10-28 00:00:00.000000001',\n",
      "               '2021-10-28 00:00:00.000000002',\n",
      "               '2021-10-28 00:00:00.000000003',\n",
      "               '2021-10-28 00:00:00.000000004',\n",
      "               '2021-10-28 00:00:00.000000005',\n",
      "               '2021-10-28 00:00:00.000000006'],\n",
      "              dtype='datetime64[ns]', freq=None)\n"
     ]
    }
   ],
   "source": [
    "print(date+pd.to_timedelta(np.arange(7)))"
   ]
  },
  {
   "cell_type": "code",
   "execution_count": 40,
   "id": "1cdbb8b5",
   "metadata": {},
   "outputs": [
    {
     "name": "stdout",
     "output_type": "stream",
     "text": [
      "DatetimeIndex(['2021-10-27', '2021-10-28', '2021-10-29', '2021-10-30',\n",
      "               '2021-10-31', '2021-11-01', '2021-11-02'],\n",
      "              dtype='datetime64[ns]', freq=None)\n",
      "2021-10-27    0\n",
      "2021-10-28    1\n",
      "2021-10-29    2\n",
      "2021-10-30    3\n",
      "2021-10-31    4\n",
      "2021-11-01    5\n",
      "2021-11-02    6\n",
      "dtype: int64\n"
     ]
    },
    {
     "data": {
      "text/plain": [
       "2021-10-27    0\n",
       "2021-10-28    1\n",
       "2021-10-29    2\n",
       "2021-10-30    3\n",
       "2021-10-31    4\n",
       "dtype: int64"
      ]
     },
     "execution_count": 40,
     "metadata": {},
     "output_type": "execute_result"
    }
   ],
   "source": [
    "ind = pd.DatetimeIndex(['2021-10-27', '2021-10-28', '2021-10-29', '2021-10-30',\n",
    "'2021-10-31', '2021-11-01', '2021-11-02'])\n",
    "\n",
    "print(ind)\n",
    "\n",
    "ser = pd.Series([0, 1, 2, 3, 4, 5, 6], index=ind)\n",
    "print(ser)\n",
    "\n",
    "ser['2021-10-27':'2021-10-31']"
   ]
  },
  {
   "cell_type": "code",
   "execution_count": 41,
   "id": "00d42c50",
   "metadata": {},
   "outputs": [
    {
     "data": {
      "text/plain": [
       "2021-11-01    5\n",
       "2021-11-02    6\n",
       "dtype: int64"
      ]
     },
     "execution_count": 41,
     "metadata": {},
     "output_type": "execute_result"
    }
   ],
   "source": [
    "ser['2021-11']"
   ]
  },
  {
   "cell_type": "code",
   "execution_count": 47,
   "id": "ef5ceb77",
   "metadata": {},
   "outputs": [
    {
     "name": "stdout",
     "output_type": "stream",
     "text": [
      "DatetimeIndex(['2015-07-03', '2015-07-04', '2015-07-06', '2015-07-07',\n",
      "               '2015-07-08'],\n",
      "              dtype='datetime64[ns]', freq=None)\n"
     ]
    }
   ],
   "source": [
    "dates = pd.to_datetime([datetime(2015, 7, 3), \"4th of July, 2015\",'2015-Jul-6',\n",
    "'07-07-2015','20150708'])\n",
    "print(dates)"
   ]
  },
  {
   "cell_type": "code",
   "execution_count": 50,
   "id": "2551f579",
   "metadata": {},
   "outputs": [
    {
     "data": {
      "text/plain": [
       "PeriodIndex(['2015-07-03', '2015-07-04', '2015-07-06', '2015-07-07',\n",
       "             '2015-07-08'],\n",
       "            dtype='period[D]', freq='D')"
      ]
     },
     "execution_count": 50,
     "metadata": {},
     "output_type": "execute_result"
    }
   ],
   "source": [
    "dates.to_period('D')"
   ]
  },
  {
   "cell_type": "code",
   "execution_count": 53,
   "id": "0b85ac09",
   "metadata": {},
   "outputs": [
    {
     "ename": "TypeError",
     "evalue": "'Timestamp' object is not subscriptable",
     "output_type": "error",
     "traceback": [
      "\u001b[1;31m---------------------------------------------------------------------------\u001b[0m",
      "\u001b[1;31mTypeError\u001b[0m                                 Traceback (most recent call last)",
      "\u001b[1;32m<ipython-input-53-ccf746484da4>\u001b[0m in \u001b[0;36m<module>\u001b[1;34m\u001b[0m\n\u001b[1;32m----> 1\u001b[1;33m \u001b[0mdates\u001b[0m \u001b[1;33m-\u001b[0m \u001b[0mdates\u001b[0m\u001b[1;33m[\u001b[0m\u001b[1;36m0\u001b[0m\u001b[1;33m]\u001b[0m\u001b[1;33m\u001b[0m\u001b[1;33m\u001b[0m\u001b[0m\n\u001b[0m",
      "\u001b[1;31mTypeError\u001b[0m: 'Timestamp' object is not subscriptable"
     ]
    }
   ],
   "source": [
    "dates - dates[0]"
   ]
  },
  {
   "cell_type": "code",
   "execution_count": 57,
   "id": "5f92fd32",
   "metadata": {},
   "outputs": [
    {
     "data": {
      "text/plain": [
       "DatetimeIndex(['2021-10-27', '2021-10-28', '2021-10-29', '2021-10-30',\n",
       "               '2021-10-31'],\n",
       "              dtype='datetime64[ns]', freq='D')"
      ]
     },
     "execution_count": 57,
     "metadata": {},
     "output_type": "execute_result"
    }
   ],
   "source": [
    "pd.date_range('2021-10-27', '2021-10-31')"
   ]
  },
  {
   "cell_type": "code",
   "execution_count": 58,
   "id": "9be657a8",
   "metadata": {},
   "outputs": [
    {
     "data": {
      "text/plain": [
       "DatetimeIndex(['2021-10-27', '2021-10-28', '2021-10-29', '2021-10-30',\n",
       "               '2021-10-31'],\n",
       "              dtype='datetime64[ns]', freq='D')"
      ]
     },
     "execution_count": 58,
     "metadata": {},
     "output_type": "execute_result"
    }
   ],
   "source": [
    "pd.date_range('2021-10-27', periods=5)"
   ]
  },
  {
   "cell_type": "code",
   "execution_count": 59,
   "id": "e574c260",
   "metadata": {},
   "outputs": [
    {
     "data": {
      "text/plain": [
       "DatetimeIndex(['2021-10-27 00:00:00', '2021-10-27 01:00:00',\n",
       "               '2021-10-27 02:00:00', '2021-10-27 03:00:00',\n",
       "               '2021-10-27 04:00:00', '2021-10-27 05:00:00',\n",
       "               '2021-10-27 06:00:00', '2021-10-27 07:00:00',\n",
       "               '2021-10-27 08:00:00', '2021-10-27 09:00:00',\n",
       "               '2021-10-27 10:00:00', '2021-10-27 11:00:00'],\n",
       "              dtype='datetime64[ns]', freq='H')"
      ]
     },
     "execution_count": 59,
     "metadata": {},
     "output_type": "execute_result"
    }
   ],
   "source": [
    "pd.date_range('2021-10-27', periods=12, freq='H')"
   ]
  }
 ],
 "metadata": {
  "kernelspec": {
   "display_name": "Python 3",
   "language": "python",
   "name": "python3"
  },
  "language_info": {
   "codemirror_mode": {
    "name": "ipython",
    "version": 3
   },
   "file_extension": ".py",
   "mimetype": "text/x-python",
   "name": "python",
   "nbconvert_exporter": "python",
   "pygments_lexer": "ipython3",
   "version": "3.8.8"
  }
 },
 "nbformat": 4,
 "nbformat_minor": 5
}
